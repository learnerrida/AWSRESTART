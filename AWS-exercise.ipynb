#Exercise 1 - Printing commands

print("aws restart is an amazing program")
print("Hi I am excited,happy and overwhelmed")

#2 Take an input of Name and Age and take a print

name = input("What is your name?")
Age = input("What is your Age?")

print("Hello" + " " + name + "Your Age is " + Age)

#Assign a value to a variable and add a number
x = 6
x = x + 8
print(x)


#Take a print using format command

glass_of_water = 3
print(" I drank  {} glasses of water".format(glass_of_water))

#Print different type of variables int,float,complex and Boolean and also their data types

a=1
b=3.14
c=True
d=25j

print(a)
print(b)
print(c)
print(d)

print(type(a))
print(type(b))
print(type(c))
print(type(d))

#Concatenate two strings

first_string = "Rida"
second_string = "Aaliya"
third_string = first_string + " "+ second_string
print(third_string)

#Take an input of two numbers and take a print

x = int(input("Enter 1st number"))
y = int(input("Enter 2nd number"))

z = x + y
print(z)

#Print the following comments

print("Programming is amazing!")
print("Hello, I feel curious, inspired, and amazed")

#Print using Variables

favourite_color = "White"
Birth_Month = "January"
print(Birth_Month + ", is the color of " + favourite_color)

#Take a Variable and do a mathematical operation and then take a print

Var =9

Var = Var - 4

print(Var)

#Use Format command

Books_Read = 5

print("I have read {} books this month".format(Books_Read))

#To define Lists,tuple,dictonary and their data types
My_name = "Rida"
My_lists = ['Steve Jobs','Elon Musk', 'Jeff Bezos','Bill Gates']
my_tuple =('Vaseem','Abaan','Fariha')
my_dict = {
    "happy" : "Family",
    "Entertainment" : "Netflix",
    "Miss" : "Mamma"
    }
    
   
    
print("{} is  a data type of {}".format(My_name,type(My_name)))
print("{} is a data type of {}".format(My_lists,type(My_lists)))
print("{} is a data type of {}".format(my_tuple,type(my_tuple)))
print("{} is a data type of {}".format(my_dict,type(my_dict)))

#Concatenate two phrases

Phrase1 = "All that glitters"
Phrase2 = " is not gold"
proverb = Phrase1 + Phrase2
print(proverb)


#Format Print

Firstnum = int(input("First number?"))
Secondnum = int(input("Second number?"))
mul = Firstnum * Secondnum
print(mul)

#Exercise 15
Fav_fruit = "Apple"
Number = 2

print('"I ate {} apples today.", where "{}" is the fruit provided by the user and "{}" is the number they provided'.format(Number,Fav_fruit,Number))

